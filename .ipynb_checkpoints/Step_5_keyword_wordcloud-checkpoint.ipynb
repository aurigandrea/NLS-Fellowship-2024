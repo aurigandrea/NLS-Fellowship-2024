{
 "cells": [
  {
   "cell_type": "markdown",
   "id": "5ec81473",
   "metadata": {},
   "source": [
    "\n",
    "# ☁️ Keyword Frequency and Word Cloud Visualisation\n",
    "\n",
    "This notebook loads a CSV containing extracted keywords and generates a frequency list and word cloud to visualise the most commonly occurring terms. It includes adjustable custom stopword filtering and text preprocessing for cleaner results.\n",
    "Overall, the aim of this notebook is to have a better understanding what's in the dataset through displaying the most frequent keywords."
   ]
  },
  {
   "cell_type": "markdown",
   "id": "dab1789b",
   "metadata": {},
   "source": [
    "\n",
    "## 📦 Import Required Libraries\n",
    "\n",
    "We import:\n",
    "- `pandas` to load the CSV file\n",
    "- `wordcloud` to generate the visualization\n",
    "- `matplotlib` to display the image\n",
    "- `Counter` to calculate word frequency\n",
    "- `string` to help with punctuation removal\n"
   ]
  },
  {
   "cell_type": "code",
   "execution_count": null,
   "id": "33d2b0c6",
   "metadata": {},
   "outputs": [],
   "source": [
    "import pandas as pd \n",
    "from wordcloud import WordCloud \n",
    "import matplotlib.pyplot as plt\n",
    "from collections import Counter\n",
    "import string\n"
   ]
  },
  {
   "cell_type": "markdown",
   "id": "eca0b687",
   "metadata": {},
   "source": [
    "\n",
    "## 📄 Load Your CSV File\n",
    "\n",
    "We load one og the enhanced datasets and extract the `keywords` column for analysis. You can choose any dataset and any column."
   ]
  },
  {
   "cell_type": "code",
   "execution_count": null,
   "id": "bc6949cf",
   "metadata": {},
   "outputs": [],
   "source": [
    "\n",
    "# Load your CSV file\n",
    "df = pd.read_csv('data/AoT5_enhanced.csv')\n",
    "\n",
    "# Extract the 'keywords' column\n",
    "keywords = df['keywords'].dropna().tolist()\n"
   ]
  },
  {
   "cell_type": "markdown",
   "id": "c4b3f9f0",
   "metadata": {},
   "source": [
    "\n",
    "## 🧩 Combine All Keywords into One Text Block\n",
    "\n",
    "We join the list of keyword strings into a single large string for processing.\n"
   ]
  },
  {
   "cell_type": "code",
   "execution_count": null,
   "id": "e683e6db",
   "metadata": {},
   "outputs": [],
   "source": [
    "\n",
    "# Combine all keywords into a single string\n",
    "text = ' '.join(keywords)\n"
   ]
  },
  {
   "cell_type": "markdown",
   "id": "9cd15103",
   "metadata": {},
   "source": [
    "\n",
    "## 🧹 Define and Apply Custom Stopwords\n",
    "\n",
    "We define a custom list of stopwords — domain-specific words we want to ignore in the word cloud — \n",
    "and remove punctuation and lowercase all words.\n"
   ]
  },
  {
   "cell_type": "code",
   "execution_count": null,
   "id": "9b50236f",
   "metadata": {},
   "outputs": [],
   "source": [
    "\n",
    "# Define custom stopwords. We predefined a few frequent terms but you can adjust it.\n",
    "custom_stopwords = set(['thousand','thought','read','youre','weve','day','say','feel','settings','youll','uks','don','website', 'health', 'uk', 'welcome', 'way', 'world', 'team', 'working', 'cookies', \n",
    "                        'site', 'information', 'provide', 'healthcare', 'using', 'need', 'share', 'staff', \n",
    "                        'know', 'range', 'visit', 'unique', 'understand', 'services', 'really', 'things', \n",
    "                        'association', 'best', 'think', 'used', 'latest', 'project', 'offer', 'online', \n",
    "                        'taking', 'british', 'understanding', 'better', 'weeks', 'group', 'doctors', 'wide', \n",
    "                        'today', 'run', 'page', 'join'])\n",
    "\n",
    "# Additional preprocessing: remove punctuation and make lowercase\n",
    "translator = str.maketrans('', '', string.punctuation)\n",
    "text = text.lower().translate(translator)\n"
   ]
  },
  {
   "cell_type": "markdown",
   "id": "678bdab5",
   "metadata": {},
   "source": [
    "\n",
    "## 🧮 Count Word Frequency\n",
    "\n",
    "We split the processed text into individual words, remove stopwords, and count how often each word appears.\n"
   ]
  },
  {
   "cell_type": "code",
   "execution_count": null,
   "id": "e6679024",
   "metadata": {},
   "outputs": [],
   "source": [
    "\n",
    "# Split the text into words and filter out stopwords\n",
    "words = text.split()\n",
    "filtered_words = [word for word in words if word not in custom_stopwords]\n",
    "\n",
    "# Calculate word frequency\n",
    "word_counts = Counter(filtered_words)\n"
   ]
  },
  {
   "cell_type": "markdown",
   "id": "99a6610f",
   "metadata": {},
   "source": [
    "\n",
    "## 🔢 Display the Most Common Words\n",
    "\n",
    "We print the top 100 most frequent keywords from the cleaned dataset.\n"
   ]
  },
  {
   "cell_type": "code",
   "execution_count": null,
   "id": "f9e54c88",
   "metadata": {},
   "outputs": [],
   "source": [
    "\n",
    "# Display the most common words\n",
    "most_common_words = word_counts.most_common(100)\n",
    "print(\"Most common words:\")\n",
    "for word, count in most_common_words:\n",
    "    print(f\"{word}: {count}\")\n"
   ]
  },
  {
   "cell_type": "markdown",
   "id": "415395f5",
   "metadata": {},
   "source": [
    "\n",
    "## ☁️ Generate and Display the Word Cloud\n",
    "\n",
    "We use the `WordCloud` library to create a word cloud from the most common keywords and plot it using `matplotlib`.\n"
   ]
  },
  {
   "cell_type": "code",
   "execution_count": null,
   "id": "49f82331",
   "metadata": {},
   "outputs": [],
   "source": [
    "\n",
    "# Generate the word cloud\n",
    "wordcloud = WordCloud(width=800, height=400, background_color='white', stopwords=custom_stopwords).generate(' '.join(filtered_words))\n",
    "\n",
    "# Plot the word cloud\n",
    "plt.figure(figsize=(10, 5))\n",
    "plt.imshow(wordcloud, interpolation='bilinear')\n",
    "plt.axis('off')\n",
    "plt.title('Word Cloud of Keywords')\n",
    "plt.show()\n"
   ]
  }
 ],
 "metadata": {
  "kernelspec": {
   "display_name": "Python 3 (ipykernel)",
   "language": "python",
   "name": "python3"
  },
  "language_info": {
   "codemirror_mode": {
    "name": "ipython",
    "version": 3
   },
   "file_extension": ".py",
   "mimetype": "text/x-python",
   "name": "python",
   "nbconvert_exporter": "python",
   "pygments_lexer": "ipython3",
   "version": "3.9.12"
  }
 },
 "nbformat": 4,
 "nbformat_minor": 5
}
