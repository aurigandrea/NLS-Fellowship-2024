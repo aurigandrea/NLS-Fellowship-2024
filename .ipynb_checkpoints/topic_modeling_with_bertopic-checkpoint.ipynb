{
 "cells": [
  {
   "cell_type": "markdown",
   "id": "7a541811",
   "metadata": {},
   "source": [
    "\n",
    "# Topic Modeling on Article Texts using BERTopic\n",
    "\n",
    "This notebook demonstrates how to use the BERTopic model for topic modeling on a collection of texts. We apply it to a DataFrame column called `full_text` and generate multiple visualizations to explore the topics and their distributions.\n"
   ]
  },
  {
   "cell_type": "markdown",
   "id": "b3fdbaed",
   "metadata": {},
   "source": [
    "\n",
    "> 💡 Note: Make sure `bertopic`, `umap-learn`, `hdbscan`, and `sentence-transformers` are installed in your environment.\n"
   ]
  },
  {
   "cell_type": "markdown",
   "id": "f9d29d39",
   "metadata": {},
   "source": [
    "\n",
    "## 📦 Import Required Libraries\n",
    "\n",
    "We import:\n",
    "- `pandas` for loading the dataset\n",
    "- `BERTopic` for topic modeling\n",
    "- `matplotlib` and `plotly` for visualizations\n"
   ]
  },
  {
   "cell_type": "code",
   "execution_count": 1,
   "id": "37337bf3",
   "metadata": {},
   "outputs": [
    {
     "ename": "ModuleNotFoundError",
     "evalue": "No module named 'bertopic'",
     "output_type": "error",
     "traceback": [
      "\u001b[0;31m---------------------------------------------------------------------------\u001b[0m",
      "\u001b[0;31mModuleNotFoundError\u001b[0m                       Traceback (most recent call last)",
      "Input \u001b[0;32mIn [1]\u001b[0m, in \u001b[0;36m<cell line: 2>\u001b[0;34m()\u001b[0m\n\u001b[1;32m      1\u001b[0m \u001b[38;5;28;01mimport\u001b[39;00m \u001b[38;5;21;01mpandas\u001b[39;00m \u001b[38;5;28;01mas\u001b[39;00m \u001b[38;5;21;01mpd\u001b[39;00m\n\u001b[0;32m----> 2\u001b[0m \u001b[38;5;28;01mfrom\u001b[39;00m \u001b[38;5;21;01mbertopic\u001b[39;00m \u001b[38;5;28;01mimport\u001b[39;00m BERTopic\n\u001b[1;32m      3\u001b[0m \u001b[38;5;28;01mimport\u001b[39;00m \u001b[38;5;21;01mmatplotlib\u001b[39;00m\u001b[38;5;21;01m.\u001b[39;00m\u001b[38;5;21;01mpyplot\u001b[39;00m \u001b[38;5;28;01mas\u001b[39;00m \u001b[38;5;21;01mplt\u001b[39;00m\n\u001b[1;32m      4\u001b[0m \u001b[38;5;28;01mimport\u001b[39;00m \u001b[38;5;21;01mplotly\u001b[39;00m\u001b[38;5;21;01m.\u001b[39;00m\u001b[38;5;21;01mio\u001b[39;00m \u001b[38;5;28;01mas\u001b[39;00m \u001b[38;5;21;01mpio\u001b[39;00m\n",
      "\u001b[0;31mModuleNotFoundError\u001b[0m: No module named 'bertopic'"
     ]
    }
   ],
   "source": [
    "\n",
    "import pandas as pd\n",
    "from bertopic import BERTopic\n",
    "import matplotlib.pyplot as plt\n",
    "import plotly.io as pio\n",
    "\n",
    "pio.renderers.default = 'notebook'\n"
   ]
  },
  {
   "cell_type": "markdown",
   "id": "a1a8d1a3",
   "metadata": {},
   "source": [
    "\n",
    "## 📄 Load Dataset\n",
    "\n",
    "We load the dataset from a CSV file named `data/parsed_data_with_LLM_summaries.csv` which is expected to contain a `full_text` column.\n"
   ]
  },
  {
   "cell_type": "code",
   "execution_count": null,
   "id": "4e84e584",
   "metadata": {},
   "outputs": [],
   "source": [
    "\n",
    "df = pd.read_csv(\"NLS_wit_LLM_summaries.csv\")\n",
    "documents = df['full_text'].dropna().astype(str).tolist()\n",
    "print(f\"Loaded {len(documents)} documents.\")\n"
   ]
  },
  {
   "cell_type": "markdown",
   "id": "36da1799",
   "metadata": {},
   "source": [
    "\n",
    "## 🧠 Create and Fit the BERTopic Model\n",
    "\n",
    "We create a BERTopic model instance and fit it on the list of documents. This step may take some time depending on the dataset size.\n"
   ]
  },
  {
   "cell_type": "code",
   "execution_count": null,
   "id": "983fcfba",
   "metadata": {},
   "outputs": [],
   "source": [
    "\n",
    "topic_model = BERTopic(verbose=True)\n",
    "topics, probs = topic_model.fit_transform(documents)\n"
   ]
  },
  {
   "cell_type": "markdown",
   "id": "8986d3d2",
   "metadata": {},
   "source": [
    "\n",
    "## 🔍 View Top Topics\n",
    "\n",
    "We display the most frequent topics and their keywords using `get_topic_info()`.\n"
   ]
  },
  {
   "cell_type": "code",
   "execution_count": null,
   "id": "2a3de99b",
   "metadata": {},
   "outputs": [],
   "source": [
    "\n",
    "topic_info = topic_model.get_topic_info()\n",
    "topic_info.head()\n"
   ]
  },
  {
   "cell_type": "markdown",
   "id": "72f661a0",
   "metadata": {},
   "source": [
    "\n",
    "## 📊 Visualize Topic Distribution\n",
    "\n",
    "We use BERTopic’s built-in interactive visualization to explore topic frequency and relationships.\n"
   ]
  },
  {
   "cell_type": "code",
   "execution_count": null,
   "id": "c19e75ea",
   "metadata": {},
   "outputs": [],
   "source": [
    "\n",
    "topic_model.visualize_topics()\n"
   ]
  },
  {
   "cell_type": "markdown",
   "id": "2c66e4bf",
   "metadata": {},
   "source": [
    "\n",
    "## 🔥 Visualize Topic Similarity (Heatmap)\n",
    "\n",
    "This heatmap shows how semantically similar the topics are to one another.\n"
   ]
  },
  {
   "cell_type": "code",
   "execution_count": null,
   "id": "7083f0af",
   "metadata": {},
   "outputs": [],
   "source": [
    "\n",
    "topic_model.visualize_heatmap()\n"
   ]
  },
  {
   "cell_type": "markdown",
   "id": "09b41896",
   "metadata": {},
   "source": [
    "\n",
    "## 🌳 Visualize Topic Hierarchy\n",
    "\n",
    "This dendrogram groups topics into a hierarchy based on their semantic relationships.\n"
   ]
  },
  {
   "cell_type": "code",
   "execution_count": null,
   "id": "afe5085c",
   "metadata": {},
   "outputs": [],
   "source": [
    "\n",
    "topic_model.visualize_hierarchy()\n"
   ]
  },
  {
   "cell_type": "markdown",
   "id": "e5d73ded",
   "metadata": {},
   "source": [
    "\n",
    "## 🧮 Visualize Term Scores per Topic\n",
    "\n",
    "We can inspect term importance for a specific topic using `visualize_barchart`.\n"
   ]
  },
  {
   "cell_type": "code",
   "execution_count": null,
   "id": "7d1dceac",
   "metadata": {},
   "outputs": [],
   "source": [
    "\n",
    "# Example: topic_model.visualize_barchart(topic=1)\n",
    "topic_model.visualize_barchart()\n"
   ]
  }
 ],
 "metadata": {
  "kernelspec": {
   "display_name": "Python 3 (ipykernel)",
   "language": "python",
   "name": "python3"
  },
  "language_info": {
   "codemirror_mode": {
    "name": "ipython",
    "version": 3
   },
   "file_extension": ".py",
   "mimetype": "text/x-python",
   "name": "python",
   "nbconvert_exporter": "python",
   "pygments_lexer": "ipython3",
   "version": "3.9.12"
  }
 },
 "nbformat": 4,
 "nbformat_minor": 5
}
